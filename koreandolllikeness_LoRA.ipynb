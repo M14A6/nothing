{
  "cells": [
    {
      "cell_type": "markdown",
      "metadata": {
        "id": "view-in-github",
        "colab_type": "text"
      },
      "source": [
        "<a href=\"https://colab.research.google.com/github/M14A6/nothing/blob/main/koreandolllikeness_LoRA.ipynb\" target=\"_parent\"><img src=\"https://colab.research.google.com/assets/colab-badge.svg\" alt=\"Open In Colab\"/></a>"
      ]
    },
    {
      "cell_type": "markdown",
      "source": [
        "# 1. Setup the web ui"
      ],
      "metadata": {
        "id": "bsiZpfkU7S77"
      }
    },
    {
      "cell_type": "code",
      "execution_count": null,
      "metadata": {
        "id": "sBbcB4vwj_jm"
      },
      "outputs": [],
      "source": [
        "!pip install --upgrade fastapi==0.90.1\n",
        "!git clone https://github.com/AUTOMATIC1111/stable-diffusion-webui\n",
        "!git clone https://github.com/yfszzx/stable-diffusion-webui-images-browser /content/stable-diffusion-webui/extensions/stable-diffusion-webui-images-browser\n",
        "\n",
        "# Model(s) setup\n",
        "# Below are model code for ChilloutMix, we always could change it to our desired model (how-to: https://youtu.be/vj-QrS_mWQI or https://youtu.be/MwyfwPFezvY)\n",
        "!curl -Lo chilloutmixni.safetensors https://huggingface.co/nolanaatama/chomni/resolve/main/chomni.safetensors\n",
        "!mv \"/content/chilloutmixni.safetensors\" \"/content/stable-diffusion-webui/models/Stable-diffusion\"\n",
        "\n",
        "# Additional embeddings\n",
        "!curl -Lo ulzzang-6500.pt https://huggingface.co/nolanaatama/chomni/resolve/main/ulzzang-6500.pt\n",
        "!mv \"/content/ulzzang-6500.pt\" \"/content/stable-diffusion-webui/embeddings\"\n",
        "\n",
        "%cd /content/stable-diffusion-webui\n",
        "!git checkout 91c8d0d\n",
        "!COMMANDLINE_ARGS=\"--share --disable-safe-unpickle --enable-insecure-extension-access\" REQS_FILE=\"requirements.txt\" python launch.py"
      ]
    },
    {
      "cell_type": "markdown",
      "source": [
        "# 2. After the gradio link show up, stop the first cell & clear the code output👆"
      ],
      "metadata": {
        "id": "JUtPlg328avv"
      }
    },
    {
      "cell_type": "markdown",
      "source": [
        "# 3. Load the LoRA & launch the web ui"
      ],
      "metadata": {
        "id": "qxhOCPrg7WXm"
      }
    },
    {
      "cell_type": "code",
      "source": [
        "!curl -Lo koreanDollLikeness_v10.safetensors https://huggingface.co/nolanaatama/kdllora/resolve/main/kdllora.safetensors\n",
        "!mv \"/content/stable-diffusion-webui/koreanDollLikeness_v10.safetensors\" \"/content/stable-diffusion-webui/models/Lora\"\n",
        "\n",
        "#Texas\n",
        "!wget https://civitai.com/api/download/models/7974 --content-disposition\n",
        "!mv \"/content/stable-diffusion-webui/arknightsTexasThe_v10.safetensors\" \"/content/stable-diffusion-webui/models/Lora\"\n",
        "\n",
        "#Skadi\n",
        "!wget https://civitai.com/api/download/models/7173 --content-disposition\n",
        "!mv \"/content/stable-diffusion-webui/arknightsSkadiThe_v10.safetensors\" \"/content/stable-diffusion-webui/models/Lora\"\n",
        "\n",
        "#Ansel\n",
        "!wget https://civitai.com/api/download/models/9642 --content-disposition\n",
        "!mv \"/content/stable-diffusion-webui/ArknightsAnsel_anselV10.safetensors\" \"/content/stable-diffusion-webui/models/Lora\"\n",
        "\n",
        "#Arona\n",
        "!wget https://civitai.com/api/download/models/9409 --content-disposition\n",
        "!mv \"/content/stable-diffusion-webui/aronaBlueArchive_v1.safetensors\" \"/content/stable-diffusion-webui/models/Lora\"\n",
        "\n",
        "#Shiroko\n",
        "!wget https://civitai.com/api/download/models/9860 --content-disposition\n",
        "!mv \"/content/stable-diffusion-webui/sunaookamiShiroko_v1.safetensors\" \"/content/stable-diffusion-webui/models/Lora\"\n",
        "\n",
        "#UMP45\n",
        "!wget https://civitai.com/api/download/models/8252 --content-disposition\n",
        "!mv \"/content/stable-diffusion-webui/girlsFrontlineUmp45_v10.safetensors\" \"/content/stable-diffusion-webui/models/Lora\"\n",
        "\n",
        "#NEGEV\n",
        "!wget https://civitai.com/api/download/models/12734 --content-disposition\n",
        "!mv \"/content/stable-diffusion-webui/negevGirlsFrontline_10.safetensors\" \"/content/stable-diffusion-webui/models/Lora\"\n",
        "\n",
        "!COMMANDLINE_ARGS=\"--share --disable-safe-unpickle --no-half-vae --xformers --reinstall-xformers --enable-insecure-extension-access\" REQS_FILE=\"requirements.txt\" python launch.py"
      ],
      "metadata": {
        "id": "pZVeLcbD70Lf"
      },
      "execution_count": null,
      "outputs": []
    },
    {
      "cell_type": "markdown",
      "metadata": {
        "id": "fhwIXzcgfkoR"
      },
      "source": [
        "# 📚 GitHub for more: [_@nolanaatama_](https://github.com/nolanaatama)\n",
        "# 📦 Repo: [Github](https://github.com/nolanaatama/sd-1click-colab)"
      ]
    }
  ],
  "metadata": {
    "accelerator": "GPU",
    "colab": {
      "provenance": [],
      "include_colab_link": true
    },
    "gpuClass": "standard",
    "kernelspec": {
      "display_name": "Python 3",
      "name": "python3"
    },
    "language_info": {
      "name": "python"
    }
  },
  "nbformat": 4,
  "nbformat_minor": 0
}
